{
 "cells": [
  {
   "cell_type": "code",
   "execution_count": 1,
   "metadata": {
    "collapsed": true
   },
   "outputs": [],
   "source": [
    "import numpy as np\n",
    "from matplotlib import pyplot as plt\n",
    "%matplotlib inline\n",
    "import random"
   ]
  },
  {
   "cell_type": "code",
   "execution_count": 100,
   "metadata": {
    "collapsed": true
   },
   "outputs": [],
   "source": [
    "# Define some initial params\n",
    "# Dimensionality\n",
    "Dn = 20\n",
    "\n",
    "# Mutation probability\n",
    "M = 0.1\n",
    "\n",
    "# Population size\n",
    "NP = 200\n",
    "\n",
    "# No. of generations\n",
    "G = 100"
   ]
  },
  {
   "cell_type": "code",
   "execution_count": 101,
   "metadata": {},
   "outputs": [
    {
     "name": "stdout",
     "output_type": "stream",
     "text": [
      "[ 0.96834597  0.22766246  0.23285604  0.47358026  0.88744748  0.27682911\n",
      "  0.36507164  0.72697461  0.19014316  0.74817271  0.82108912  0.07230067\n",
      "  0.78665122  0.36564014  0.78679063  0.00716283  0.18768055  0.17904817\n",
      "  0.19020782  0.07640186]\n"
     ]
    }
   ],
   "source": [
    "r = np.random.random((Dn,))\n",
    "def f(x):\n",
    "    return ((x + r)**2).sum()\n",
    "\n",
    "print r"
   ]
  },
  {
   "cell_type": "code",
   "execution_count": 102,
   "metadata": {},
   "outputs": [
    {
     "name": "stdout",
     "output_type": "stream",
     "text": [
      "200\n"
     ]
    }
   ],
   "source": [
    "# Generate population\n",
    "pop = []\n",
    "\n",
    "for ix in range(NP):\n",
    "    # generate a random vector\n",
    "    vec = np.random.uniform(-10, 10, (Dn,))\n",
    "    \n",
    "    # Add to population\n",
    "    pop.append(vec)\n",
    "\n",
    "print len(pop)"
   ]
  },
  {
   "cell_type": "code",
   "execution_count": 103,
   "metadata": {
    "collapsed": true
   },
   "outputs": [],
   "source": [
    "def crossover(parent_1, parent_2):\n",
    "    child_1 = np.zeros(parent_1.shape)\n",
    "    child_2 = np.zeros(parent_2.shape)\n",
    "    \n",
    "    dim = int(parent_1.shape[0] / 2.0)\n",
    "    \n",
    "    child_1[:dim] = parent_1[:dim]\n",
    "    child_1[dim:] = parent_2[dim:]\n",
    "    \n",
    "    child_2[:dim] = parent_2[:dim]\n",
    "    child_2[dim:] = parent_1[dim:]\n",
    "    \n",
    "    return child_1, child_2\n",
    "\n",
    "def mutate(x):\n",
    "    for ix in range(x.shape[0]):\n",
    "        # Generate a random number for probability\n",
    "        R = np.random.random()\n",
    "        \n",
    "        if R < M:\n",
    "            # Mutate random index \n",
    "            x[ix] = np.random.uniform(-5, 5)\n",
    "        else:\n",
    "            pass\n",
    "    return x"
   ]
  },
  {
   "cell_type": "code",
   "execution_count": 104,
   "metadata": {},
   "outputs": [
    {
     "name": "stdout",
     "output_type": "stream",
     "text": [
      "Generation: 0 | Best Value: 312.376889495\n",
      "Generation: 1 | Best Value: 227.807555923\n",
      "Generation: 2 | Best Value: 103.670801867\n",
      "Generation: 3 | Best Value: 103.365859435\n",
      "Generation: 4 | Best Value: 66.6952676215\n",
      "Generation: 5 | Best Value: 55.4059722666\n",
      "Generation: 6 | Best Value: 42.4403056061\n",
      "Generation: 7 | Best Value: 35.4411475284\n",
      "Generation: 8 | Best Value: 35.0643248368\n",
      "Generation: 9 | Best Value: 27.6353103901\n",
      "Generation: 10 | Best Value: 26.4838412438\n",
      "Generation: 11 | Best Value: 15.8822252023\n",
      "Generation: 12 | Best Value: 14.1824985098\n",
      "Generation: 13 | Best Value: 12.5689021852\n",
      "Generation: 14 | Best Value: 12.5689021852\n",
      "Generation: 15 | Best Value: 11.7148746514\n",
      "Generation: 16 | Best Value: 11.4268915395\n",
      "Generation: 17 | Best Value: 10.3676189462\n",
      "Generation: 18 | Best Value: 8.1200849932\n",
      "Generation: 19 | Best Value: 8.1200849932\n",
      "Generation: 20 | Best Value: 7.74793578923\n",
      "Generation: 21 | Best Value: 6.57442828161\n",
      "Generation: 22 | Best Value: 6.57442828161\n",
      "Generation: 23 | Best Value: 6.57442828161\n",
      "Generation: 24 | Best Value: 6.13903814284\n",
      "Generation: 25 | Best Value: 6.13903814284\n",
      "Generation: 26 | Best Value: 5.4778949093\n",
      "Generation: 27 | Best Value: 5.18735572673\n",
      "Generation: 28 | Best Value: 5.06096091902\n",
      "Generation: 29 | Best Value: 4.57273149244\n",
      "Generation: 30 | Best Value: 4.11449325853\n",
      "Generation: 31 | Best Value: 4.11449325853\n",
      "Generation: 32 | Best Value: 3.84705631686\n",
      "Generation: 33 | Best Value: 3.84705631686\n",
      "Generation: 34 | Best Value: 3.32854655923\n",
      "Generation: 35 | Best Value: 3.32854655923\n",
      "Generation: 36 | Best Value: 3.16304123358\n",
      "Generation: 37 | Best Value: 3.01637200919\n",
      "Generation: 38 | Best Value: 2.67134283197\n",
      "Generation: 39 | Best Value: 2.67134283197\n",
      "Generation: 40 | Best Value: 2.67134283197\n",
      "Generation: 41 | Best Value: 2.67134283197\n",
      "Generation: 42 | Best Value: 2.30949516373\n",
      "Generation: 43 | Best Value: 2.19117379187\n",
      "Generation: 44 | Best Value: 2.16398391254\n",
      "Generation: 45 | Best Value: 2.13591738381\n",
      "Generation: 46 | Best Value: 1.93412679845\n",
      "Generation: 47 | Best Value: 1.93412679845\n",
      "Generation: 48 | Best Value: 1.85446747663\n",
      "Generation: 49 | Best Value: 1.85446747663\n",
      "Generation: 50 | Best Value: 1.79237378269\n",
      "Generation: 51 | Best Value: 1.79237378269\n",
      "Generation: 52 | Best Value: 1.48220148554\n",
      "Generation: 53 | Best Value: 1.37562506032\n",
      "Generation: 54 | Best Value: 1.37562506032\n",
      "Generation: 55 | Best Value: 1.37562506032\n",
      "Generation: 56 | Best Value: 1.37562506032\n",
      "Generation: 57 | Best Value: 1.15860064593\n",
      "Generation: 58 | Best Value: 1.07363587329\n",
      "Generation: 59 | Best Value: 1.07363587329\n",
      "Generation: 60 | Best Value: 1.07363587329\n",
      "Generation: 61 | Best Value: 1.07363587329\n",
      "Generation: 62 | Best Value: 1.07363587329\n",
      "Generation: 63 | Best Value: 0.906985502984\n",
      "Generation: 64 | Best Value: 0.906985502984\n",
      "Generation: 65 | Best Value: 0.906985502984\n",
      "Generation: 66 | Best Value: 0.906985502984\n",
      "Generation: 67 | Best Value: 0.902086859195\n",
      "Generation: 68 | Best Value: 0.902086859195\n",
      "Generation: 69 | Best Value: 0.869554879784\n",
      "Generation: 70 | Best Value: 0.761302817649\n",
      "Generation: 71 | Best Value: 0.761302817649\n",
      "Generation: 72 | Best Value: 0.70840210574\n",
      "Generation: 73 | Best Value: 0.70840210574\n",
      "Generation: 74 | Best Value: 0.515932752843\n",
      "Generation: 75 | Best Value: 0.515932752843\n",
      "Generation: 76 | Best Value: 0.515932752843\n",
      "Generation: 77 | Best Value: 0.515932752843\n",
      "Generation: 78 | Best Value: 0.515932752843\n",
      "Generation: 79 | Best Value: 0.515932752843\n",
      "Generation: 80 | Best Value: 0.515932752843\n",
      "Generation: 81 | Best Value: 0.515932752843\n",
      "Generation: 82 | Best Value: 0.515932752843\n",
      "Generation: 83 | Best Value: 0.509111595269\n",
      "Generation: 84 | Best Value: 0.47788565644\n",
      "Generation: 85 | Best Value: 0.428323412906\n",
      "Generation: 86 | Best Value: 0.428323412906\n",
      "Generation: 87 | Best Value: 0.389578384808\n",
      "Generation: 88 | Best Value: 0.389578384808\n",
      "Generation: 89 | Best Value: 0.389578384808\n",
      "Generation: 90 | Best Value: 0.389578384808\n",
      "Generation: 91 | Best Value: 0.382757227235\n",
      "Generation: 92 | Best Value: 0.379532657985\n",
      "Generation: 93 | Best Value: 0.33225725288\n",
      "Generation: 94 | Best Value: 0.33225725288\n",
      "Generation: 95 | Best Value: 0.33225725288\n",
      "Generation: 96 | Best Value: 0.30887710718\n",
      "Generation: 97 | Best Value: 0.30887710718\n",
      "Generation: 98 | Best Value: 0.283027803852\n",
      "Generation: 99 | Best Value: 0.274497426845\n"
     ]
    }
   ],
   "source": [
    "loss = []\n",
    "\n",
    "# Main Genetic Algo loop\n",
    "for gx in range(G):\n",
    "    pop = sorted(pop, key=lambda z: f(z))\n",
    "    print \"Generation: {0} | Best Value: {1}\".format(gx, f(pop[0]))\n",
    "    loss.append(f(pop[0]))\n",
    "    \n",
    "    # create a temp population\n",
    "    temp = []\n",
    "    \n",
    "    while not len(temp) == NP:\n",
    "        # Select 2 parents from good section of population\n",
    "        p1, p2 = random.sample(pop[:int(NP/4.0)], 2)\n",
    "        \n",
    "        # Apply crossover\n",
    "        c1, c2 = crossover(p1, p2)\n",
    "        \n",
    "        # mutate\n",
    "        c1 = mutate(c1)\n",
    "        c2 = mutate(c2)\n",
    "        \n",
    "        temp.append(c1)\n",
    "        temp.append(c2)\n",
    "    \n",
    "    # create a combined population\n",
    "    comb = temp + pop\n",
    "    \n",
    "    # survival of the fittest\n",
    "    pop = sorted(comb, key=lambda z: f(z))[:NP]"
   ]
  },
  {
   "cell_type": "code",
   "execution_count": 94,
   "metadata": {},
   "outputs": [
    {
     "data": {
      "text/plain": [
       "[<matplotlib.lines.Line2D at 0x7f46630ff110>]"
      ]
     },
     "execution_count": 94,
     "metadata": {},
     "output_type": "execute_result"
    },
    {
     "data": {
      "image/png": "[encoded data removed]",
      "text/plain": [
       "<matplotlib.figure.Figure at 0x7f46655b8e10>"
      ]
     },
     "metadata": {},
     "output_type": "display_data"
    }
   ],
   "source": [
    "plt.plot(loss)"
   ]
  }
 ],
 "metadata": {
  "kernelspec": {
   "display_name": "Python 2",
   "language": "python",
   "name": "python2"
  },
  "language_info": {
   "codemirror_mode": {
    "name": "ipython",
    "version": 2
   },
   "file_extension": ".py",
   "mimetype": "text/x-python",
   "name": "python",
   "nbconvert_exporter": "python",
   "pygments_lexer": "ipython2",
   "version": "2.7.13"
  }
 },
 "nbformat": 4,
 "nbformat_minor": 2
}
